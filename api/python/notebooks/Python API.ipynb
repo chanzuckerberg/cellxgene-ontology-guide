{
 "cells": [
  {
   "cell_type": "code",
   "execution_count": 2,
   "id": "c689e76c-0a81-45b9-a0af-3d8450fae525",
   "metadata": {
    "ExecuteTime": {
     "end_time": "2024-04-11T18:01:47.206988Z",
     "start_time": "2024-04-11T18:01:47.190678Z"
    },
    "pycharm": {
     "name": "#%%\n"
    }
   },
   "outputs": [],
   "source": [
    "from cellxgene_ontology_guide.entities import Ontology\n",
    "from cellxgene_ontology_guide.ontology_parser import OntologyParser\n",
    "from cellxgene_ontology_guide.supported_versions import CXGSchema, load_supported_versions"
   ]
  },
  {
   "cell_type": "code",
   "execution_count": 3,
   "id": "71f124ef-3769-4000-a929-f3826e5ba2b9",
   "metadata": {
    "ExecuteTime": {
     "end_time": "2024-04-11T18:01:53.144903Z",
     "start_time": "2024-04-11T18:01:53.139187Z"
    },
    "pycharm": {
     "name": "#%%\n"
    }
   },
   "outputs": [
    {
     "data": {
      "text/plain": [
       "{'v5.0.0': {'ontologies': {'CL': {'version': 'v2024-01-04',\n",
       "    'source': 'https://github.com/obophenotype/cell-ontology/releases/download',\n",
       "    'filename': 'cl.owl'},\n",
       "   'EFO': {'version': 'v3.62.0',\n",
       "    'source': 'https://github.com/EBISPOT/efo/releases/download',\n",
       "    'filename': 'efo.owl'},\n",
       "   'HANCESTRO': {'version': '3.0',\n",
       "    'source': 'https://github.com/EBISPOT/hancestro/raw',\n",
       "    'filename': 'hancestro.owl'},\n",
       "   'HsapDv': {'version': '11',\n",
       "    'source': 'http://aber-owl.net/media/ontologies/HSAPDV',\n",
       "    'filename': 'hsapdv.owl'},\n",
       "   'MONDO': {'version': 'v2024-01-03',\n",
       "    'source': 'https://github.com/monarch-initiative/mondo/releases/download',\n",
       "    'filename': 'mondo.owl'},\n",
       "   'MmusDv': {'version': '9',\n",
       "    'source': 'http://aber-owl.net/media/ontologies/MMUSDV',\n",
       "    'filename': 'mmusdv.owl'},\n",
       "   'NCBITaxon': {'version': 'v2023-06-20',\n",
       "    'source': 'https://github.com/obophenotype/ncbitaxon/releases/download',\n",
       "    'filename': 'ncbitaxon.owl.gz'},\n",
       "   'UBERON': {'version': 'v2024-01-18',\n",
       "    'source': 'https://github.com/obophenotype/uberon/releases/download',\n",
       "    'filename': 'uberon.owl'},\n",
       "   'PATO': {'version': 'v2023-05-18',\n",
       "    'source': 'https://github.com/pato-ontology/pato/raw',\n",
       "    'filename': 'pato.owl'}}}}"
      ]
     },
     "execution_count": 3,
     "metadata": {},
     "output_type": "execute_result"
    }
   ],
   "source": [
    "# Get versions of each supported Ontology associated with package-supported CellXGene schema_versions\n",
    "load_supported_versions()"
   ]
  },
  {
   "cell_type": "code",
   "execution_count": 4,
   "id": "54c6f4aa-417a-4b49-bd38-27b95d9de085",
   "metadata": {
    "ExecuteTime": {
     "end_time": "2024-04-11T18:01:54.147781Z",
     "start_time": "2024-04-11T18:01:54.144769Z"
    },
    "pycharm": {
     "name": "#%%\n"
    }
   },
   "outputs": [],
   "source": [
    "# Init a CXGSchema object to track what ontology versions are supported\n",
    "cxg_schema = CXGSchema(version=\"v5.0.0\")"
   ]
  },
  {
   "cell_type": "code",
   "execution_count": 5,
   "id": "456a647488b474c2",
   "metadata": {
    "ExecuteTime": {
     "end_time": "2024-04-11T18:01:55.813250Z",
     "start_time": "2024-04-11T18:01:55.808657Z"
    },
    "collapsed": false,
    "jupyter": {
     "outputs_hidden": false
    }
   },
   "outputs": [
    {
     "data": {
      "text/plain": [
       "'https://github.com/obophenotype/cell-ontology/releases/download/v2024-01-04/cl.owl'"
      ]
     },
     "execution_count": 5,
     "metadata": {},
     "output_type": "execute_result"
    }
   ],
   "source": [
    "# Build download URL for an ontology file associated with this schema_version\n",
    "cxg_schema.get_ontology_download_url(Ontology.CL)"
   ]
  },
  {
   "cell_type": "code",
   "execution_count": 6,
   "id": "c906bbc7-6494-4cbb-9281-d84b6a3852dd",
   "metadata": {
    "ExecuteTime": {
     "end_time": "2024-04-11T18:02:03.459302Z",
     "start_time": "2024-04-11T18:02:03.454016Z"
    },
    "collapsed": false,
    "jupyter": {
     "outputs_hidden": false
    }
   },
   "outputs": [
    {
     "data": {
      "text/plain": [
       "'https://github.com/obophenotype/uberon/releases/download/v2024-01-18/uberon.owl'"
      ]
     },
     "execution_count": 6,
     "metadata": {},
     "output_type": "execute_result"
    }
   ],
   "source": [
    "cxg_schema.get_ontology_download_url(Ontology.UBERON)"
   ]
  },
  {
   "cell_type": "code",
   "execution_count": 7,
   "id": "1a1f25c25664cd11",
   "metadata": {
    "ExecuteTime": {
     "end_time": "2024-04-11T18:02:04.680816Z",
     "start_time": "2024-04-11T18:02:04.677350Z"
    },
    "collapsed": false,
    "jupyter": {
     "outputs_hidden": false
    }
   },
   "outputs": [],
   "source": [
    "# Init object to parse information from ontologies associated with a given CellXGene schema_version\n",
    "ontology_parser = OntologyParser(schema_version=\"v5.0.0\")"
   ]
  },
  {
   "cell_type": "code",
   "execution_count": 8,
   "id": "ae3af1ee-a8ac-4095-a914-47f8b0fcb0b7",
   "metadata": {
    "ExecuteTime": {
     "end_time": "2024-04-11T18:02:07.686917Z",
     "start_time": "2024-04-11T18:02:07.664570Z"
    },
    "pycharm": {
     "name": "#%%\n"
    }
   },
   "outputs": [
    {
     "name": "stdout",
     "output_type": "stream",
     "text": [
      "['CL:0000586', 'CL:0000039', 'CL:0000000']\n"
     ]
    }
   ],
   "source": [
    "# Get ancestors for a given term per schema_version associated ontologies\n",
    "ancestors = ontology_parser.get_term_ancestors(\"CL:0000021\")  # female germ cell\n",
    "print(ancestors)"
   ]
  },
  {
   "cell_type": "code",
   "execution_count": 9,
   "id": "c582f12c-c5c9-49b0-b275-a47cac257319",
   "metadata": {
    "ExecuteTime": {
     "end_time": "2024-04-11T18:02:08.956989Z",
     "start_time": "2024-04-11T18:02:08.952843Z"
    },
    "pycharm": {
     "name": "#%%\n"
    }
   },
   "outputs": [
    {
     "data": {
      "text/plain": [
       "['germ cell', 'germ line cell', 'cell']"
      ]
     },
     "execution_count": 9,
     "metadata": {},
     "output_type": "execute_result"
    }
   ],
   "source": [
    "# What are the human-readable labels for these?\n",
    "[ontology_parser.get_term_label(term_id) for term_id in ancestors]"
   ]
  },
  {
   "cell_type": "code",
   "execution_count": 10,
   "id": "261ac136-7340-42c3-bfd5-7df90b4a51fb",
   "metadata": {
    "ExecuteTime": {
     "end_time": "2024-04-11T18:02:09.987702Z",
     "start_time": "2024-04-11T18:02:09.979992Z"
    },
    "pycharm": {
     "name": "#%%\n"
    }
   },
   "outputs": [
    {
     "data": {
      "text/plain": [
       "{'CL:0000021': ['CL:0000022',\n",
       "  'CL:0000023',\n",
       "  'CL:0000024',\n",
       "  'CL:0000025',\n",
       "  'CL:0000675',\n",
       "  'CL:0000654',\n",
       "  'CL:0000655',\n",
       "  'CL:0002090',\n",
       "  'CL:0002091',\n",
       "  'CL:0002093'],\n",
       " 'CL:0000586': ['CL:0000015',\n",
       "  'CL:0000016',\n",
       "  'CL:0000017',\n",
       "  'CL:0000020',\n",
       "  'CL:0000018',\n",
       "  'CL:0000657',\n",
       "  'CL:0000019',\n",
       "  'CL:0000408',\n",
       "  'CL:0000021',\n",
       "  'CL:0000022',\n",
       "  'CL:0000023',\n",
       "  'CL:0000024',\n",
       "  'CL:0000025',\n",
       "  'CL:0000675',\n",
       "  'CL:0000722',\n",
       "  'CL:0000300',\n",
       "  'CL:0000654',\n",
       "  'CL:0000655',\n",
       "  'CL:0000656',\n",
       "  'CL:0002090',\n",
       "  'CL:0002091',\n",
       "  'CL:0002093',\n",
       "  'CL:0002290',\n",
       "  'CL:0002291',\n",
       "  'CL:0011013',\n",
       "  'CL:0011014',\n",
       "  'CL:0011015',\n",
       "  'CL:0011016',\n",
       "  'CL:4030036',\n",
       "  'CL:4030037']}"
      ]
     },
     "execution_count": 10,
     "metadata": {},
     "output_type": "execute_result"
    }
   ],
   "source": [
    "# Get descendants for female germ cell and germ cell\n",
    "ontology_parser.map_term_descendants([\"CL:0000021\", \"CL:0000586\"])"
   ]
  },
  {
   "cell_type": "code",
   "execution_count": 11,
   "id": "060844e8-065d-4c86-9271-07e77b1da7dd",
   "metadata": {
    "ExecuteTime": {
     "end_time": "2024-04-11T18:02:11.767921Z",
     "start_time": "2024-04-11T18:02:11.763828Z"
    },
    "pycharm": {
     "name": "#%%\n"
    }
   },
   "outputs": [
    {
     "data": {
      "text/plain": [
       "2"
      ]
     },
     "execution_count": 11,
     "metadata": {},
     "output_type": "execute_result"
    }
   ],
   "source": [
    "# Get other info about ontology term graph\n",
    "ontology_parser.get_distance_between_terms(\"CL:0000021\", \"CL:0000015\")  # female, male germ cell terms"
   ]
  },
  {
   "cell_type": "code",
   "execution_count": 12,
   "id": "e9fed7c3-5af0-41ce-a6f4-102eadd3e13a",
   "metadata": {
    "ExecuteTime": {
     "end_time": "2024-04-11T18:02:12.556894Z",
     "start_time": "2024-04-11T18:02:12.553259Z"
    },
    "pycharm": {
     "name": "#%%\n"
    }
   },
   "outputs": [
    {
     "data": {
      "text/plain": [
       "['CL:0000586']"
      ]
     },
     "execution_count": 12,
     "metadata": {},
     "output_type": "execute_result"
    }
   ],
   "source": [
    "ontology_parser.get_lowest_common_ancestors(\"CL:0000021\", \"CL:0000015\")"
   ]
  },
  {
   "cell_type": "code",
   "execution_count": 13,
   "id": "a7458db1-0855-4d64-88b3-57850f1c379b",
   "metadata": {
    "ExecuteTime": {
     "end_time": "2024-04-11T18:02:13.356651Z",
     "start_time": "2024-04-11T18:02:13.351886Z"
    },
    "pycharm": {
     "name": "#%%\n"
    }
   },
   "outputs": [],
   "source": [
    "# Map terms to a curated list, based on matching ancestor terms\n",
    "CELL_CLASSES = [\n",
    "    \"CL:0002494\",  # cardiocyte\n",
    "    \"CL:0002320\",  # connective tissue cell\n",
    "    \"CL:0000473\",  # defensive cell\n",
    "    \"CL:0000066\",  # epithelial cell\n",
    "    \"CL:0000988\",  # hematopoietic cell\n",
    "    \"CL:0000183\",  # NEW contractile cell\n",
    "    \"CL:0002319\",  # neural cell\n",
    "    \"CL:0011115\",  # precursor cell\n",
    "    \"CL:0000151\",  # secretory cell\n",
    "    \"CL:0000039\",  # NEW germ cell line\n",
    "    \"CL:0000064\",  # NEW ciliated cell\n",
    "    \"CL:0000219\",  # NEW motile cell\n",
    "    \"CL:0000188\",  # NEW cell of skeletal muscle\n",
    "    \"CL:0000325\",  # NEW stuff accumulating cell\n",
    "    \"CL:0000349\",  # NEW extraembryonic cell\n",
    "    \"CL:0000586\",  # NEW germ cell\n",
    "    \"CL:0000630\",  # NEW supporting cell\n",
    "    \"CL:0001035\",  # NEW bone cell\n",
    "    \"CL:0001061\",  # NEW abnormal cell\n",
    "    \"CL:0002321\",  # NEW embryonic cell (metazoa)\n",
    "    \"CL:0009010\",  # NEW transit amplifying cell\n",
    "    \"CL:1000600\",  # NEW lower urinary tract cell\n",
    "    \"CL:4033054\",  # NEW perivascular cell\n",
    "    \"CL:0002321\",  # NEW embryonic cell(metazoa)\n",
    "    \"CL:0000677\",  # NEW gut absorptive cel\n",
    "]"
   ]
  },
  {
   "cell_type": "code",
   "execution_count": 14,
   "id": "5d48933e-abb9-4a6d-9e87-de60e778c318",
   "metadata": {
    "ExecuteTime": {
     "end_time": "2024-04-11T18:02:14.096601Z",
     "start_time": "2024-04-11T18:02:14.093060Z"
    },
    "pycharm": {
     "name": "#%%\n"
    }
   },
   "outputs": [
    {
     "data": {
      "text/plain": [
       "{'CL:0000021': ['CL:0000039', 'CL:0000586'],\n",
       " 'CL:0000015': ['CL:0000039', 'CL:0000586']}"
      ]
     },
     "execution_count": 14,
     "metadata": {},
     "output_type": "execute_result"
    }
   ],
   "source": [
    "cells_to_map = [\"CL:0000021\", \"CL:0000015\"]\n",
    "ontology_parser.map_high_level_terms(cells_to_map, CELL_CLASSES)"
   ]
  },
  {
   "cell_type": "code",
   "execution_count": 15,
   "id": "d9cfb45a-3a52-4a56-b9b3-b97f93a7bf8e",
   "metadata": {
    "ExecuteTime": {
     "end_time": "2024-04-11T18:02:15.083689Z",
     "start_time": "2024-04-11T18:02:15.078725Z"
    },
    "pycharm": {
     "name": "#%%\n"
    }
   },
   "outputs": [
    {
     "data": {
      "text/plain": [
       "{'CL:0000021': 'CL:0000039', 'CL:0000015': 'CL:0000039'}"
      ]
     },
     "execution_count": 15,
     "metadata": {},
     "output_type": "execute_result"
    }
   ],
   "source": [
    "# Map to highest level, most general term (i.e. term closest to root node)\n",
    "ontology_parser.map_highest_level_term(cells_to_map, CELL_CLASSES)"
   ]
  },
  {
   "cell_type": "code",
   "execution_count": 16,
   "id": "d326f228-01b3-4059-b064-ccab51344ad5",
   "metadata": {
    "ExecuteTime": {
     "end_time": "2024-04-11T18:02:15.793268Z",
     "start_time": "2024-04-11T18:02:15.789405Z"
    },
    "pycharm": {
     "name": "#%%\n"
    }
   },
   "outputs": [
    {
     "data": {
      "text/plain": [
       "True"
      ]
     },
     "execution_count": 16,
     "metadata": {},
     "output_type": "execute_result"
    }
   ],
   "source": [
    "# Determine if a term is deprecated--and retrieve metadata for how to replace it\n",
    "ontology_parser.is_term_deprecated(\"CL:0000003\")"
   ]
  },
  {
   "cell_type": "code",
   "execution_count": 17,
   "id": "57fd3be7-633b-4082-9cb8-3cb84edc6236",
   "metadata": {
    "ExecuteTime": {
     "end_time": "2024-04-11T18:02:16.465222Z",
     "start_time": "2024-04-11T18:02:16.461459Z"
    },
    "pycharm": {
     "name": "#%%\n"
    }
   },
   "outputs": [
    {
     "data": {
      "text/plain": [
       "'CL:0000000'"
      ]
     },
     "execution_count": 17,
     "metadata": {},
     "output_type": "execute_result"
    }
   ],
   "source": [
    "ontology_parser.get_term_replacement(\"CL:0000003\")"
   ]
  },
  {
   "cell_type": "code",
   "execution_count": 18,
   "id": "89ffff44-9019-4a95-9a34-68f964c756fe",
   "metadata": {
    "ExecuteTime": {
     "end_time": "2024-04-11T18:02:17.075874Z",
     "start_time": "2024-04-11T18:02:17.072154Z"
    },
    "pycharm": {
     "name": "#%%\n"
    }
   },
   "outputs": [
    {
     "data": {
      "text/plain": [
       "{'consider': None,\n",
       " 'comments': ['https://github.com/obophenotype/cell-ontology/issues/2124'],\n",
       " 'term_tracker': None}"
      ]
     },
     "execution_count": 18,
     "metadata": {},
     "output_type": "execute_result"
    }
   ],
   "source": [
    "ontology_parser.get_term_metadata(\"CL:0000003\")"
   ]
  },
  {
   "cell_type": "code",
   "execution_count": 19,
   "id": "7ac868c0729e0225",
   "metadata": {
    "ExecuteTime": {
     "end_time": "2024-04-11T18:29:24.902116Z",
     "start_time": "2024-04-11T18:29:24.897976Z"
    },
    "collapsed": false,
    "jupyter": {
     "outputs_hidden": false
    }
   },
   "outputs": [
    {
     "data": {
      "text/plain": [
       "{'CL:0000057': 1, 'CL:0002320': 2, 'CL:0000000': 3}"
      ]
     },
     "execution_count": 19,
     "metadata": {},
     "output_type": "execute_result"
    }
   ],
   "source": [
    "ontology_parser.get_term_ancestors_with_distances(\"CL:0000005\")"
   ]
  },
  {
   "cell_type": "code",
   "execution_count": 20,
   "id": "420644090cdccecf",
   "metadata": {
    "ExecuteTime": {
     "end_time": "2024-04-11T18:29:49.816735Z",
     "start_time": "2024-04-11T18:29:49.812574Z"
    },
    "collapsed": false,
    "jupyter": {
     "outputs_hidden": false
    }
   },
   "outputs": [
    {
     "data": {
      "text/plain": [
       "['CL:0000526']"
      ]
     },
     "execution_count": 20,
     "metadata": {},
     "output_type": "execute_result"
    }
   ],
   "source": [
    "ontology_parser.get_term_parents(\"CL:0000101\")"
   ]
  },
  {
   "cell_type": "code",
   "execution_count": 21,
   "id": "a972e1b2550cbf71",
   "metadata": {
    "ExecuteTime": {
     "end_time": "2024-04-11T18:34:30.054568Z",
     "start_time": "2024-04-11T18:34:29.903171Z"
    },
    "collapsed": false,
    "jupyter": {
     "outputs_hidden": false
    }
   },
   "outputs": [
    {
     "data": {
      "text/plain": [
       "{'term_id': 'CL:0000101',\n",
       " 'name': 'sensory neuron',\n",
       " 'children': [{'term_id': 'CL:0000006',\n",
       "   'name': 'neuronal receptor cell',\n",
       "   'children': [{'term_id': 'CL:0000198',\n",
       "     'name': 'pain receptor cell',\n",
       "     'children': [{'term_id': 'CL:0000551',\n",
       "       'name': 'unimodal nocireceptor',\n",
       "       'children': []},\n",
       "      {'term_id': 'CL:0000567',\n",
       "       'name': 'polymodal nocireceptor',\n",
       "       'children': []}]},\n",
       "    {'term_id': 'CL:0000200', 'name': 'touch receptor cell', 'children': []},\n",
       "    {'term_id': 'CL:0000203',\n",
       "     'name': 'gravity sensitive cell',\n",
       "     'children': []},\n",
       "    {'term_id': 'CL:0000204',\n",
       "     'name': 'acceleration receptive cell',\n",
       "     'children': []},\n",
       "    {'term_id': 'CL:0000205',\n",
       "     'name': 'thermoreceptor cell',\n",
       "     'children': [{'term_id': 'CL:0000587',\n",
       "       'name': 'cold sensing thermoreceptor cell',\n",
       "       'children': []},\n",
       "      {'term_id': 'CL:0000591',\n",
       "       'name': 'warmth sensing thermoreceptor cell',\n",
       "       'children': []}]},\n",
       "    {'term_id': 'CL:0000207',\n",
       "     'name': 'olfactory receptor cell',\n",
       "     'children': [{'term_id': 'CL:0000847',\n",
       "       'name': 'ciliated olfactory receptor neuron',\n",
       "       'children': []},\n",
       "      {'term_id': 'CL:0000848',\n",
       "       'name': 'microvillous olfactory receptor neuron',\n",
       "       'children': []},\n",
       "      {'term_id': 'CL:0000849',\n",
       "       'name': 'crypt olfactory receptor neuron',\n",
       "       'children': []}]},\n",
       "    {'term_id': 'CL:0000210',\n",
       "     'name': 'photoreceptor cell',\n",
       "     'children': [{'term_id': 'CL:0000287',\n",
       "       'name': 'eye photoreceptor cell',\n",
       "       'children': [{'term_id': 'CL:0010009',\n",
       "         'name': 'camera-type eye photoreceptor cell',\n",
       "         'children': [{'term_id': 'CL:0000573',\n",
       "           'name': 'retinal cone cell',\n",
       "           'children': [{'term_id': 'CL:0003048',\n",
       "             'name': 'L cone cell',\n",
       "             'children': []},\n",
       "            {'term_id': 'CL:0003049',\n",
       "             'name': 'M cone cell',\n",
       "             'children': [{'term_id': 'CL:0004161',\n",
       "               'name': '510 nm-cone',\n",
       "               'children': []}]},\n",
       "            {'term_id': 'CL:0003050', 'name': 'S cone cell', 'children': []},\n",
       "            {'term_id': 'CL:0003051',\n",
       "             'name': 'UV cone cell',\n",
       "             'children': [{'term_id': 'CL:0004162',\n",
       "               'name': '360 nm-cone',\n",
       "               'children': []}]}]},\n",
       "          {'term_id': 'CL:0000604',\n",
       "           'name': 'retinal rod cell',\n",
       "           'children': []}]},\n",
       "        {'term_id': 'CL:2000019',\n",
       "         'name': 'compound eye photoreceptor cell',\n",
       "         'children': [{'term_id': 'CL:0000687',\n",
       "           'name': 'R1 photoreceptor cell',\n",
       "           'children': []},\n",
       "          {'term_id': 'CL:0000690',\n",
       "           'name': 'R2 photoreceptor cell',\n",
       "           'children': []},\n",
       "          {'term_id': 'CL:0000694',\n",
       "           'name': 'R3 photoreceptor cell',\n",
       "           'children': []},\n",
       "          {'term_id': 'CL:0000697',\n",
       "           'name': 'R4 photoreceptor cell',\n",
       "           'children': []},\n",
       "          {'term_id': 'CL:0000702',\n",
       "           'name': 'R5 photoreceptor cell',\n",
       "           'children': []},\n",
       "          {'term_id': 'CL:0000705',\n",
       "           'name': 'R6 photoreceptor cell',\n",
       "           'children': []},\n",
       "          {'term_id': 'CL:0000709',\n",
       "           'name': 'R8 photoreceptor cell',\n",
       "           'children': []}]},\n",
       "        {'term_id': 'CL:0000707',\n",
       "         'name': 'R7 photoreceptor cell',\n",
       "         'children': []}]},\n",
       "      {'term_id': 'CL:0000488',\n",
       "       'name': 'visible light photoreceptor cell',\n",
       "       'children': [{'term_id': 'CL:0000490',\n",
       "         'name': 'photopic photoreceptor cell',\n",
       "         'children': [{'term_id': 'CL:0000495',\n",
       "           'name': 'blue sensitive photoreceptor cell',\n",
       "           'children': []},\n",
       "          {'term_id': 'CL:0000496',\n",
       "           'name': 'green sensitive photoreceptor cell',\n",
       "           'children': []},\n",
       "          {'term_id': 'CL:0000497',\n",
       "           'name': 'red sensitive photoreceptor cell',\n",
       "           'children': []}]},\n",
       "        {'term_id': 'CL:0000687',\n",
       "         'name': 'R1 photoreceptor cell',\n",
       "         'children': []},\n",
       "        {'term_id': 'CL:0000690',\n",
       "         'name': 'R2 photoreceptor cell',\n",
       "         'children': []},\n",
       "        {'term_id': 'CL:0000694',\n",
       "         'name': 'R3 photoreceptor cell',\n",
       "         'children': []},\n",
       "        {'term_id': 'CL:0000697',\n",
       "         'name': 'R4 photoreceptor cell',\n",
       "         'children': []},\n",
       "        {'term_id': 'CL:0000702',\n",
       "         'name': 'R5 photoreceptor cell',\n",
       "         'children': []},\n",
       "        {'term_id': 'CL:0000705',\n",
       "         'name': 'R6 photoreceptor cell',\n",
       "         'children': []},\n",
       "        {'term_id': 'CL:0000709',\n",
       "         'name': 'R8 photoreceptor cell',\n",
       "         'children': []}]},\n",
       "      {'term_id': 'CL:0000489',\n",
       "       'name': 'scotopic photoreceptor cell',\n",
       "       'children': []},\n",
       "      {'term_id': 'CL:0000494',\n",
       "       'name': 'UV sensitive photoreceptor cell',\n",
       "       'children': [{'term_id': 'CL:0000707',\n",
       "         'name': 'R7 photoreceptor cell',\n",
       "         'children': []}]}]},\n",
       "    {'term_id': 'CL:0000247', 'name': 'Rohon-Beard neuron', 'children': []},\n",
       "    {'term_id': 'CL:0000376',\n",
       "     'name': 'humidity receptor cell',\n",
       "     'children': []},\n",
       "    {'term_id': 'CL:1000082',\n",
       "     'name': 'stretch receptor cell',\n",
       "     'children': [{'term_id': 'CL:0000602',\n",
       "       'name': 'pressoreceptor cell',\n",
       "       'children': []}]},\n",
       "    {'term_id': 'CL:0002374',\n",
       "     'name': 'ear hair cell',\n",
       "     'children': [{'term_id': 'CL:4023120',\n",
       "       'name': 'cochlea auditory hair cell',\n",
       "       'children': [{'term_id': 'CL:0000589',\n",
       "         'name': 'cochlear inner hair cell',\n",
       "         'children': []},\n",
       "        {'term_id': 'CL:0000601',\n",
       "         'name': 'cochlear outer hair cell',\n",
       "         'children': []}]},\n",
       "      {'term_id': 'CL:0000609',\n",
       "       'name': 'vestibular hair cell',\n",
       "       'children': [{'term_id': 'CL:0002069',\n",
       "         'name': 'type II vestibular sensory cell',\n",
       "         'children': [{'term_id': 'CL:1000382',\n",
       "           'name': 'type 2 vestibular sensory cell of stato-acoustic epithelium',\n",
       "           'children': []},\n",
       "          {'term_id': 'CL:1000383',\n",
       "           'name': 'type 2 vestibular sensory cell of epithelium of macula of utricle of membranous labyrinth',\n",
       "           'children': []},\n",
       "          {'term_id': 'CL:1000384',\n",
       "           'name': 'type 2 vestibular sensory cell of epithelium of macula of saccule of membranous labyrinth',\n",
       "           'children': []},\n",
       "          {'term_id': 'CL:1000385',\n",
       "           'name': 'type 2 vestibular sensory cell of epithelium of crista of ampulla of semicircular duct of membranous labyrinth',\n",
       "           'children': []}]},\n",
       "        {'term_id': 'CL:0002070',\n",
       "         'name': 'type I vestibular sensory cell',\n",
       "         'children': [{'term_id': 'CL:1000378',\n",
       "           'name': 'type 1 vestibular sensory cell of stato-acoustic epithelium',\n",
       "           'children': []},\n",
       "          {'term_id': 'CL:1000379',\n",
       "           'name': 'type 1 vestibular sensory cell of epithelium of macula of utricle of membranous labyrinth',\n",
       "           'children': []},\n",
       "          {'term_id': 'CL:1000380',\n",
       "           'name': 'type 1 vestibular sensory cell of epithelium of macula of saccule of membranous labyrinth',\n",
       "           'children': []},\n",
       "          {'term_id': 'CL:1000381',\n",
       "           'name': 'type 1 vestibular sensory cell of epithelium of crista of ampulla of semicircular duct of membranous labyrinth',\n",
       "           'children': []}]}]},\n",
       "      {'term_id': 'CL:0002450', 'name': 'tether cell', 'children': []},\n",
       "      {'term_id': 'CL:0005008', 'name': 'macular hair cell', 'children': []}]},\n",
       "    {'term_id': 'CL:0000856',\n",
       "     'name': 'neuromast hair cell',\n",
       "     'children': [{'term_id': 'CL:2000034',\n",
       "       'name': 'anterior lateral line neuromast hair cell',\n",
       "       'children': []},\n",
       "      {'term_id': 'CL:2000037',\n",
       "       'name': 'posterior lateral line neuromast hair cell',\n",
       "       'children': []}]},\n",
       "    {'term_id': 'CL:1000223',\n",
       "     'name': 'lung neuroendocrine cell',\n",
       "     'children': [{'term_id': 'CL:4033010',\n",
       "       'name': 'neuroendocrine cell of epithelium of lobar bronchus',\n",
       "       'children': []}]},\n",
       "    {'term_id': 'CL:1001451',\n",
       "     'name': 'sensory neuron of dorsal root ganglion',\n",
       "     'children': []},\n",
       "    {'term_id': 'CL:4023170',\n",
       "     'name': 'trigeminal sensory neuron',\n",
       "     'children': []}]},\n",
       "  {'term_id': 'CL:0000199',\n",
       "   'name': 'mechanoreceptor cell',\n",
       "   'children': [{'term_id': 'CL:0000200',\n",
       "     'name': 'touch receptor cell',\n",
       "     'children': []},\n",
       "    {'term_id': 'CL:0000855',\n",
       "     'name': 'sensory hair cell',\n",
       "     'children': [{'term_id': 'CL:0000202',\n",
       "       'name': 'auditory hair cell',\n",
       "       'children': [{'term_id': 'CL:4023120',\n",
       "         'name': 'cochlea auditory hair cell',\n",
       "         'children': [{'term_id': 'CL:0000589',\n",
       "           'name': 'cochlear inner hair cell',\n",
       "           'children': []},\n",
       "          {'term_id': 'CL:0000601',\n",
       "           'name': 'cochlear outer hair cell',\n",
       "           'children': []}]},\n",
       "        {'term_id': 'CL:0005008',\n",
       "         'name': 'macular hair cell',\n",
       "         'children': []}]},\n",
       "      {'term_id': 'CL:0002374',\n",
       "       'name': 'ear hair cell',\n",
       "       'children': [{'term_id': 'CL:4023120',\n",
       "         'name': 'cochlea auditory hair cell',\n",
       "         'children': [{'term_id': 'CL:0000589',\n",
       "           'name': 'cochlear inner hair cell',\n",
       "           'children': []},\n",
       "          {'term_id': 'CL:0000601',\n",
       "           'name': 'cochlear outer hair cell',\n",
       "           'children': []}]},\n",
       "        {'term_id': 'CL:0000609',\n",
       "         'name': 'vestibular hair cell',\n",
       "         'children': [{'term_id': 'CL:0002069',\n",
       "           'name': 'type II vestibular sensory cell',\n",
       "           'children': [{'term_id': 'CL:1000382',\n",
       "             'name': 'type 2 vestibular sensory cell of stato-acoustic epithelium',\n",
       "             'children': []},\n",
       "            {'term_id': 'CL:1000383',\n",
       "             'name': 'type 2 vestibular sensory cell of epithelium of macula of utricle of membranous labyrinth',\n",
       "             'children': []},\n",
       "            {'term_id': 'CL:1000384',\n",
       "             'name': 'type 2 vestibular sensory cell of epithelium of macula of saccule of membranous labyrinth',\n",
       "             'children': []},\n",
       "            {'term_id': 'CL:1000385',\n",
       "             'name': 'type 2 vestibular sensory cell of epithelium of crista of ampulla of semicircular duct of membranous labyrinth',\n",
       "             'children': []}]},\n",
       "          {'term_id': 'CL:0002070',\n",
       "           'name': 'type I vestibular sensory cell',\n",
       "           'children': [{'term_id': 'CL:1000378',\n",
       "             'name': 'type 1 vestibular sensory cell of stato-acoustic epithelium',\n",
       "             'children': []},\n",
       "            {'term_id': 'CL:1000379',\n",
       "             'name': 'type 1 vestibular sensory cell of epithelium of macula of utricle of membranous labyrinth',\n",
       "             'children': []},\n",
       "            {'term_id': 'CL:1000380',\n",
       "             'name': 'type 1 vestibular sensory cell of epithelium of macula of saccule of membranous labyrinth',\n",
       "             'children': []},\n",
       "            {'term_id': 'CL:1000381',\n",
       "             'name': 'type 1 vestibular sensory cell of epithelium of crista of ampulla of semicircular duct of membranous labyrinth',\n",
       "             'children': []}]}]},\n",
       "        {'term_id': 'CL:0002450', 'name': 'tether cell', 'children': []},\n",
       "        {'term_id': 'CL:0005008',\n",
       "         'name': 'macular hair cell',\n",
       "         'children': []}]},\n",
       "      {'term_id': 'CL:0000856',\n",
       "       'name': 'neuromast hair cell',\n",
       "       'children': [{'term_id': 'CL:2000034',\n",
       "         'name': 'anterior lateral line neuromast hair cell',\n",
       "         'children': []},\n",
       "        {'term_id': 'CL:2000037',\n",
       "         'name': 'posterior lateral line neuromast hair cell',\n",
       "         'children': []}]}]},\n",
       "    {'term_id': 'CL:0000203',\n",
       "     'name': 'gravity sensitive cell',\n",
       "     'children': []},\n",
       "    {'term_id': 'CL:0000544',\n",
       "     'name': 'slowly adapting mechanoreceptor cell',\n",
       "     'children': []},\n",
       "    {'term_id': 'CL:0002487',\n",
       "     'name': 'cutaneous/subcutaneous mechanoreceptor cell',\n",
       "     'children': [{'term_id': 'CL:1001436',\n",
       "       'name': 'hair-tylotrich neuron',\n",
       "       'children': []},\n",
       "      {'term_id': 'CL:1001437',\n",
       "       'name': 'hair-down neuron',\n",
       "       'children': []}]}]},\n",
       "  {'term_id': 'CL:0000531',\n",
       "   'name': 'primary sensory neuron (sensu Teleostei)',\n",
       "   'children': [{'term_id': 'CL:0000247',\n",
       "     'name': 'Rohon-Beard neuron',\n",
       "     'children': []}]},\n",
       "  {'term_id': 'CL:0000251', 'name': 'extramedullary cell', 'children': []},\n",
       "  {'term_id': 'CL:1001434',\n",
       "   'name': 'olfactory bulb interneuron',\n",
       "   'children': [{'term_id': 'CL:0000626',\n",
       "     'name': 'olfactory granule cell',\n",
       "     'children': []},\n",
       "    {'term_id': 'CL:1001502', 'name': 'mitral cell', 'children': []},\n",
       "    {'term_id': 'CL:1001435', 'name': 'periglomerular cell', 'children': []}]},\n",
       "  {'term_id': 'CL:3000004',\n",
       "   'name': 'peripheral sensory neuron',\n",
       "   'children': [{'term_id': 'CL:0009000',\n",
       "     'name': 'sensory neuron of spinal nerve',\n",
       "     'children': []}]},\n",
       "  {'term_id': 'CL:1001561',\n",
       "   'name': 'vomeronasal sensory neuron',\n",
       "   'children': []},\n",
       "  {'term_id': 'CL:4023112',\n",
       "   'name': 'vestibular afferent neuron',\n",
       "   'children': [{'term_id': 'CL:4023113',\n",
       "     'name': 'bouton vestibular afferent neuron',\n",
       "     'children': []},\n",
       "    {'term_id': 'CL:4023114',\n",
       "     'name': 'calyx vestibular afferent neuron',\n",
       "     'children': []}]}]}"
      ]
     },
     "execution_count": 21,
     "metadata": {},
     "output_type": "execute_result"
    }
   ],
   "source": [
    "# Get the DAG of OntologyNode relationships\n",
    "root_node = ontology_parser.get_term_graph(\"CL:0000101\")\n",
    "root_node.to_dict()"
   ]
  },
  {
   "cell_type": "code",
   "execution_count": null,
   "id": "6056479e1dc03237",
   "metadata": {
    "collapsed": false,
    "jupyter": {
     "outputs_hidden": false
    }
   },
   "outputs": [],
   "source": []
  }
 ],
 "metadata": {
  "kernelspec": {
   "display_name": "Python 3 (ipykernel)",
   "language": "python",
   "name": "python3"
  },
  "language_info": {
   "codemirror_mode": {
    "name": "ipython",
    "version": 3
   },
   "file_extension": ".py",
   "mimetype": "text/x-python",
   "name": "python",
   "nbconvert_exporter": "python",
   "pygments_lexer": "ipython3",
   "version": "3.11.8"
  }
 },
 "nbformat": 4,
 "nbformat_minor": 5
}
