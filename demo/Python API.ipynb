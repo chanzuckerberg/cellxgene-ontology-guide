{
 "cells": [
  {
   "cell_type": "code",
   "execution_count": 14,
   "id": "c689e76c-0a81-45b9-a0af-3d8450fae525",
   "metadata": {},
   "outputs": [],
   "source": [
    "from cellxgene_ontology_guide.ontology_parser import OntologyParser\n",
    "from cellxgene_ontology_guide.supported_versions import load_supported_versions\n",
    "from cellxgene_ontology_guide.entities import Ontology, OntologyVariant, OntologyFileType"
   ]
  },
  {
   "cell_type": "code",
   "execution_count": 10,
   "id": "71f124ef-3769-4000-a929-f3826e5ba2b9",
   "metadata": {},
   "outputs": [
    {
     "data": {
      "text/plain": [
       "{'v5.0.0': {'CL': {'version': 'v2024-01-04',\n",
       "   'source': 'https://github.com/obophenotype/cell-ontology/releases/download',\n",
       "   'filetype': 'owl'},\n",
       "  'EFO': {'version': 'v3.62.0',\n",
       "   'source': 'https://github.com/EBISPOT/efo/releases/download',\n",
       "   'filetype': 'owl'},\n",
       "  'HANCESTRO': {'version': '3.0',\n",
       "   'source': 'https://github.com/EBISPOT/hancestro/raw',\n",
       "   'filetype': 'owl'},\n",
       "  'HsapDv': {'version': '11',\n",
       "   'source': 'http://aber-owl.net/media/ontologies/HSAPDV',\n",
       "   'filetype': 'owl'},\n",
       "  'MONDO': {'version': 'v2024-01-03',\n",
       "   'source': 'https://github.com/monarch-initiative/mondo/releases/download',\n",
       "   'filetype': 'owl'},\n",
       "  'MmusDv': {'version': '9',\n",
       "   'source': 'http://aber-owl.net/media/ontologies/MMUSDV',\n",
       "   'filetype': 'owl'},\n",
       "  'NCBITaxon': {'version': 'v2023-06-20',\n",
       "   'source': 'https://github.com/obophenotype/ncbitaxon/releases/download',\n",
       "   'filetype': 'owl.gz'},\n",
       "  'UBERON': {'version': 'v2024-01-18',\n",
       "   'source': 'https://github.com/obophenotype/uberon/releases/download',\n",
       "   'filetype': 'owl'},\n",
       "  'PATO': {'version': 'v2023-05-18',\n",
       "   'source': 'https://github.com/pato-ontology/pato/raw',\n",
       "   'filetype': 'owl'}}}"
      ]
     },
     "execution_count": 10,
     "metadata": {},
     "output_type": "execute_result"
    }
   ],
   "source": [
    "# Get versions of each supported Ontology associated with package-supported CellXGene schema_versions\n",
    "load_supported_versions()"
   ]
  },
  {
   "cell_type": "code",
   "execution_count": 11,
   "id": "54c6f4aa-417a-4b49-bd38-27b95d9de085",
   "metadata": {},
   "outputs": [],
   "source": [
    "# Init object to parse information from ontologies associated with a given CellXGene schema_version\n",
    "ontology_parser = OntologyParser(schema_version=\"v5.0.0\")"
   ]
  },
  {
   "cell_type": "code",
   "execution_count": 15,
   "id": "7b523f59-7be7-4ac2-aed9-4b651144e9cb",
   "metadata": {},
   "outputs": [
    {
     "data": {
      "text/plain": [
       "'https://github.com/obophenotype/cell-ontology/releases/download/v2024-01-04/cl.owl'"
      ]
     },
     "execution_count": 15,
     "metadata": {},
     "output_type": "execute_result"
    }
   ],
   "source": [
    "# Build download URL for an ontology file associated with this schema_version\n",
    "ontology_parser.get_ontology_download_url(Ontology.CL, OntologyFileType.OWL)"
   ]
  },
  {
   "cell_type": "code",
   "execution_count": 16,
   "id": "c906bbc7-6494-4cbb-9281-d84b6a3852dd",
   "metadata": {},
   "outputs": [
    {
     "data": {
      "text/plain": [
       "'https://github.com/obophenotype/uberon/releases/download/v2024-01-18/uberon-full.obo'"
      ]
     },
     "execution_count": 16,
     "metadata": {},
     "output_type": "execute_result"
    }
   ],
   "source": [
    "# Build download URL for a File Variant\n",
    "ontology_parser.get_ontology_download_url(Ontology.UBERON, OntologyFileType.OBO, OntologyVariant.FULL)"
   ]
  },
  {
   "cell_type": "code",
   "execution_count": 32,
   "id": "ae3af1ee-a8ac-4095-a914-47f8b0fcb0b7",
   "metadata": {},
   "outputs": [
    {
     "name": "stdout",
     "output_type": "stream",
     "text": [
      "['CL:0000586', 'CL:0000039', 'CL:0000000']\n"
     ]
    }
   ],
   "source": [
    "# Get ancestors for a given term per schema_version associated ontologies \n",
    "ancestors = ontology_parser.get_term_ancestors(\"CL:0000021\") # female germ cell\n",
    "print(ancestors)"
   ]
  },
  {
   "cell_type": "code",
   "execution_count": 33,
   "id": "c582f12c-c5c9-49b0-b275-a47cac257319",
   "metadata": {},
   "outputs": [
    {
     "data": {
      "text/plain": [
       "['germ cell', 'germ line cell', 'cell']"
      ]
     },
     "execution_count": 33,
     "metadata": {},
     "output_type": "execute_result"
    }
   ],
   "source": [
    "# What are the human-readable labels for these?\n",
    "[ontology_parser.get_term_label(term_id) for term_id in ancestors]"
   ]
  },
  {
   "cell_type": "code",
   "execution_count": 27,
   "id": "261ac136-7340-42c3-bfd5-7df90b4a51fb",
   "metadata": {},
   "outputs": [
    {
     "data": {
      "text/plain": [
       "{'CL:0000021': ['CL:0000022',\n",
       "  'CL:0000023',\n",
       "  'CL:0000024',\n",
       "  'CL:0000025',\n",
       "  'CL:0000675',\n",
       "  'CL:0000654',\n",
       "  'CL:0000655',\n",
       "  'CL:0002090',\n",
       "  'CL:0002091',\n",
       "  'CL:0002093'],\n",
       " 'CL:0000586': ['CL:0000015',\n",
       "  'CL:0000016',\n",
       "  'CL:0000017',\n",
       "  'CL:0000020',\n",
       "  'CL:0000018',\n",
       "  'CL:0000657',\n",
       "  'CL:0000019',\n",
       "  'CL:0000408',\n",
       "  'CL:0000021',\n",
       "  'CL:0000022',\n",
       "  'CL:0000023',\n",
       "  'CL:0000024',\n",
       "  'CL:0000025',\n",
       "  'CL:0000675',\n",
       "  'CL:0000722',\n",
       "  'CL:0000300',\n",
       "  'CL:0000654',\n",
       "  'CL:0000655',\n",
       "  'CL:0000656',\n",
       "  'CL:0002090',\n",
       "  'CL:0002091',\n",
       "  'CL:0002093',\n",
       "  'CL:0002290',\n",
       "  'CL:0002291',\n",
       "  'CL:0011013',\n",
       "  'CL:0011014',\n",
       "  'CL:0011015',\n",
       "  'CL:0011016',\n",
       "  'CL:4030036',\n",
       "  'CL:4030037']}"
      ]
     },
     "execution_count": 27,
     "metadata": {},
     "output_type": "execute_result"
    }
   ],
   "source": [
    "# Get descendants for female germ cell and germ cell\n",
    "ontology_parser.get_terms_descendants([\"CL:0000021\", \"CL:0000586\"])"
   ]
  },
  {
   "cell_type": "code",
   "execution_count": 37,
   "id": "060844e8-065d-4c86-9271-07e77b1da7dd",
   "metadata": {},
   "outputs": [
    {
     "data": {
      "text/plain": [
       "2"
      ]
     },
     "execution_count": 37,
     "metadata": {},
     "output_type": "execute_result"
    }
   ],
   "source": [
    "# Get other info about ontology term graph\n",
    "ontology_parser.get_distance_between_terms(\"CL:0000021\", \"CL:0000015\") # female, male germ cell terms"
   ]
  },
  {
   "cell_type": "code",
   "execution_count": 38,
   "id": "e9fed7c3-5af0-41ce-a6f4-102eadd3e13a",
   "metadata": {},
   "outputs": [
    {
     "data": {
      "text/plain": [
       "['CL:0000586']"
      ]
     },
     "execution_count": 38,
     "metadata": {},
     "output_type": "execute_result"
    }
   ],
   "source": [
    "ontology_parser.get_lowest_common_ancestors(\"CL:0000021\", \"CL:0000015\")"
   ]
  },
  {
   "cell_type": "code",
   "execution_count": 40,
   "id": "a7458db1-0855-4d64-88b3-57850f1c379b",
   "metadata": {},
   "outputs": [],
   "source": [
    "# Map terms to a curated list, based on matching ancestor terms\n",
    "CELL_CLASSES = [\n",
    "    \"CL:0002494\",  # cardiocyte\n",
    "    \"CL:0002320\",  # connective tissue cell\n",
    "    \"CL:0000473\",  # defensive cell\n",
    "    \"CL:0000066\",  # epithelial cell\n",
    "    \"CL:0000988\",  # hematopoietic cell\n",
    "    \"CL:0000183\",  # NEW contractile cell\n",
    "    \"CL:0002319\",  # neural cell\n",
    "    \"CL:0011115\",  # precursor cell\n",
    "    \"CL:0000151\",  # secretory cell\n",
    "    \"CL:0000039\",  # NEW germ cell line\n",
    "    \"CL:0000064\",  # NEW ciliated cell\n",
    "    \"CL:0000219\",  # NEW motile cell\n",
    "    \"CL:0000188\",  # NEW cell of skeletal muscle\n",
    "    \"CL:0000325\",  # NEW stuff accumulating cell\n",
    "    \"CL:0000349\",  # NEW extraembryonic cell\n",
    "    \"CL:0000586\",  # NEW germ cell\n",
    "    \"CL:0000630\",  # NEW supporting cell\n",
    "    \"CL:0001035\",  # NEW bone cell\n",
    "    \"CL:0001061\",  # NEW abnormal cell\n",
    "    \"CL:0002321\",  # NEW embryonic cell (metazoa)\n",
    "    \"CL:0009010\",  # NEW transit amplifying cell\n",
    "    \"CL:1000600\",  # NEW lower urinary tract cell\n",
    "    \"CL:4033054\",  # NEW perivascular cell\n",
    "    \"CL:0002321\",  # NEW embryonic cell(metazoa)\n",
    "    \"CL:0000677\",  # NEW gut absorptive cel\n",
    "]"
   ]
  },
  {
   "cell_type": "code",
   "execution_count": 41,
   "id": "5d48933e-abb9-4a6d-9e87-de60e778c318",
   "metadata": {},
   "outputs": [
    {
     "data": {
      "text/plain": [
       "{'CL:0000021': ['CL:0000586', 'CL:0000039'],\n",
       " 'CL:0000015': ['CL:0000586', 'CL:0000039']}"
      ]
     },
     "execution_count": 41,
     "metadata": {},
     "output_type": "execute_result"
    }
   ],
   "source": [
    "cells_to_map = [\"CL:0000021\", \"CL:0000015\"]\n",
    "ontology_parser.map_high_level_terms(cells_to_map, CELL_CLASSES)"
   ]
  },
  {
   "cell_type": "code",
   "execution_count": 42,
   "id": "d9cfb45a-3a52-4a56-b9b3-b97f93a7bf8e",
   "metadata": {},
   "outputs": [
    {
     "data": {
      "text/plain": [
       "{'CL:0000021': 'CL:0000039', 'CL:0000015': 'CL:0000039'}"
      ]
     },
     "execution_count": 42,
     "metadata": {},
     "output_type": "execute_result"
    }
   ],
   "source": [
    "# Map to highest level, most general term (i.e. term closest to root node)\n",
    "ontology_parser.map_highest_level_term(cells_to_map, CELL_CLASSES)"
   ]
  },
  {
   "cell_type": "code",
   "execution_count": 43,
   "id": "d326f228-01b3-4059-b064-ccab51344ad5",
   "metadata": {},
   "outputs": [
    {
     "data": {
      "text/plain": [
       "True"
      ]
     },
     "execution_count": 43,
     "metadata": {},
     "output_type": "execute_result"
    }
   ],
   "source": [
    "# Determine if a term is deprecated--and retrieve metadata for how to replace it\n",
    "ontology_parser.is_term_deprecated(\"CL:0000003\")"
   ]
  },
  {
   "cell_type": "code",
   "execution_count": 44,
   "id": "57fd3be7-633b-4082-9cb8-3cb84edc6236",
   "metadata": {},
   "outputs": [
    {
     "data": {
      "text/plain": [
       "'CL:0000000'"
      ]
     },
     "execution_count": 44,
     "metadata": {},
     "output_type": "execute_result"
    }
   ],
   "source": [
    "ontology_parser.get_term_replacement(\"CL:0000003\")"
   ]
  },
  {
   "cell_type": "code",
   "execution_count": 45,
   "id": "89ffff44-9019-4a95-9a34-68f964c756fe",
   "metadata": {},
   "outputs": [
    {
     "data": {
      "text/plain": [
       "{'term_tracker': None,\n",
       " 'consider': None,\n",
       " 'comments': ['https://github.com/obophenotype/cell-ontology/issues/2124']}"
      ]
     },
     "execution_count": 45,
     "metadata": {},
     "output_type": "execute_result"
    }
   ],
   "source": [
    "ontology_parser.get_term_metadata(\"CL:0000003\")"
   ]
  },
  {
   "cell_type": "code",
   "execution_count": null,
   "id": "891a21d4-1287-4ea4-b30f-eb6ea89ce8ec",
   "metadata": {},
   "outputs": [],
   "source": []
  }
 ],
 "metadata": {
  "kernelspec": {
   "display_name": "Python 3 (ipykernel)",
   "language": "python",
   "name": "python3"
  },
  "language_info": {
   "codemirror_mode": {
    "name": "ipython",
    "version": 3
   },
   "file_extension": ".py",
   "mimetype": "text/x-python",
   "name": "python",
   "nbconvert_exporter": "python",
   "pygments_lexer": "ipython3",
   "version": "3.10.5"
  }
 },
 "nbformat": 4,
 "nbformat_minor": 5
}
